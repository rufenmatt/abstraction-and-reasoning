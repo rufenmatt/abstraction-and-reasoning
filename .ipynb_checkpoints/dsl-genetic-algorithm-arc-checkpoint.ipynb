{
 "cells": [
  {
   "cell_type": "code",
   "execution_count": 61,
   "metadata": {},
   "outputs": [],
   "source": [
    "import numpy as np\n",
    "import pandas as pd\n",
    "import itertools\n",
    "import random\n",
    "\n",
    "import os\n",
    "import json\n",
    "from pathlib import Path\n",
    "\n",
    "import matplotlib.pyplot as plt\n",
    "from matplotlib import colors\n",
    "\n",
    "data_path = Path('../abstraction-and-reasoning-challenge/data/')\n",
    "training_path = data_path / 'training'\n",
    "\n",
    "training_tasks = sorted(os.listdir(training_path))"
   ]
  },
  {
   "cell_type": "code",
   "execution_count": 62,
   "metadata": {},
   "outputs": [],
   "source": [
    "# np.array -> [np.array]\n",
    "def groupByColor_unlifted(pixmap):\n",
    "    \"\"\" Split an image into a collection of images with unique color \"\"\"\n",
    "    # Count the number of colors\n",
    "    nb_colors = int(pixmap.max()) + 1\n",
    "    # Create a pixmap for each color\n",
    "    splited = [(pixmap == i) * i for i in range(1, nb_colors)]\n",
    "    # Filter out empty images\n",
    "    return [x for x in splited if np.any(x)]\n",
    "\n",
    "# np.array -> [np.array]\n",
    "def cropToContent_unlifted(pixmap):\n",
    "    \"\"\" Crop an image to fit exactly the non 0 pixels \"\"\"\n",
    "    # Op argwhere will give us the coordinates of every non-zero point\n",
    "    true_points = np.argwhere(pixmap)\n",
    "    if len(true_points) == 0:\n",
    "        return []\n",
    "    # Take the smallest points and use them as the top left of our crop\n",
    "    top_left = true_points.min(axis=0)\n",
    "    # Take the largest points and use them as the bottom right of our crop\n",
    "    bottom_right = true_points.max(axis=0)\n",
    "    # Crop inside the defined rectangle\n",
    "    pixmap = pixmap[top_left[0]:bottom_right[0]+1, top_left[1]:bottom_right[1]+1]\n",
    "    return [pixmap]\n",
    "\n",
    "# np.array -> [np.array]\n",
    "def splitH_unlifted(pixmap):\n",
    "    \"\"\" Split horizontally an image \"\"\"\n",
    "    h = pixmap.shape[0]\n",
    "    if h % 2 == 1:\n",
    "        h = h // 2\n",
    "        return [pixmap[:h,:], pixmap[h+1:,:]]\n",
    "    else:\n",
    "        h = h // 2\n",
    "        return [pixmap[:h,:], pixmap[h:,:]]\n",
    "\n",
    "# np.array -> [np.array]\n",
    "def negative_unlifted(pixmap):\n",
    "    \"\"\" Compute the negative of an image (and conserve the color) \"\"\"\n",
    "    negative = np.logical_not(pixmap).astype(int)\n",
    "    color = max(pixmap.max(), 1)\n",
    "    return [negative * color]"
   ]
  },
  {
   "cell_type": "code",
   "execution_count": 63,
   "metadata": {},
   "outputs": [],
   "source": [
    "# [np.array] -> [np.array]\n",
    "def identity(x: [np.array]):\n",
    "    return x\n",
    "\n",
    "# [np.array] -> [np.array]\n",
    "def tail(x):\n",
    "    if len(x) > 1:\n",
    "        return x[1:]\n",
    "    else:\n",
    "        return x\n",
    "\n",
    "# [np.array] -> [np.array]\n",
    "def init(x):\n",
    "    if len(x) > 1:\n",
    "        return x[:1]\n",
    "    else:\n",
    "        return x\n",
    "\n",
    "# [np.array] -> [np.array]\n",
    "def union(x):\n",
    "    \"\"\" Compute the pixel union of all images in the list. \"\"\"\n",
    "    if len(x) < 2:\n",
    "        return x\n",
    "    \n",
    "    # Make sure everybody have the same shape\n",
    "    first_shape = tuple(x[0].shape)\n",
    "    for pixmap in x[1:]:\n",
    "        if first_shape != tuple(pixmap.shape):\n",
    "            return []\n",
    "    \n",
    "    return [np.bitwise_or.reduce(np.array(x).astype(int))]\n",
    "    \n",
    "def intersect(x):\n",
    "    \"\"\" Compute the pixel intersection of all images in the list. \"\"\"\n",
    "    if len(x) < 2:\n",
    "        return x\n",
    "    \n",
    "    # Make sure everybody have the same shape\n",
    "    first_shape = tuple(x[0].shape)\n",
    "    for pixmap in x[1:]:\n",
    "        if first_shape != tuple(pixmap.shape):\n",
    "            return []\n",
    "    \n",
    "    return [(np.prod(np.array(x), axis=0) > 0).astype(int)]\n",
    "\n",
    "def sortByColor(xs):\n",
    "    \"\"\" Sort pictures by increasing color id. \"\"\"\n",
    "    xs = [x for x in xs if len(x.reshape(-1)) > 0]\n",
    "    return list(sorted(xs, key=lambda x: x.max()))\n",
    "\n",
    "def sortByWeight(xs):\n",
    "    \"\"\" Sort images by how many non zero pixels are contained. \"\"\"\n",
    "    xs = [x for x in xs if len(x.reshape(-1)) > 0]\n",
    "    return list(sorted(xs, key=lambda x: (x>0).sum()))\n",
    "\n",
    "def reverse(x):\n",
    "    \"\"\" Reverse the order of a list of images. \"\"\"\n",
    "    return x[::-1]"
   ]
  },
  {
   "cell_type": "code",
   "execution_count": 64,
   "metadata": {},
   "outputs": [],
   "source": [
    "def lift(fct):\n",
    "    # Lift the function\n",
    "    def lifted_function(xs):\n",
    "        list_of_results = [fct(x) for x in xs]\n",
    "        return list(itertools.chain(*list_of_results))\n",
    "    # Give a nice name to the lifted function\n",
    "    import re\n",
    "    lifted_function.__name__ = re.sub('_unlifted$', '_lifted', fct.__name__)\n",
    "    return lifted_function\n",
    "\n",
    "cropToContent = lift(cropToContent_unlifted)\n",
    "groupByColor = lift(groupByColor_unlifted)\n",
    "splitH = lift(splitH_unlifted)\n",
    "negative = lift(negative_unlifted)"
   ]
  },
  {
   "cell_type": "code",
   "execution_count": 65,
   "metadata": {},
   "outputs": [],
   "source": [
    "#\n",
    "# This code is used to display a task\n",
    "#\n",
    "\n",
    "cmap = colors.ListedColormap(\n",
    "        ['#000000', '#0074D9','#FF4136','#2ECC40','#FFDC00',\n",
    "         '#AAAAAA', '#F012BE', '#FF851B', '#7FDBFF', '#870C25'])\n",
    "norm = colors.Normalize(vmin=0, vmax=9)\n",
    "def plot_one(ax, i,train_or_test,input_or_output):\n",
    "    cmap = colors.ListedColormap(\n",
    "        ['#000000', '#0074D9','#FF4136','#2ECC40','#FFDC00',\n",
    "         '#AAAAAA', '#F012BE', '#FF851B', '#7FDBFF', '#870C25'])\n",
    "    norm = colors.Normalize(vmin=0, vmax=9)\n",
    "    \n",
    "    input_matrix = task[train_or_test][i][input_or_output]\n",
    "    ax.imshow(input_matrix, cmap=cmap, norm=norm)\n",
    "    ax.grid(True,which='both',color='lightgrey', linewidth=0.5)    \n",
    "    ax.set_yticks([x-0.5 for x in range(1+len(input_matrix))])\n",
    "    ax.set_xticks([x-0.5 for x in range(1+len(input_matrix[0]))])     \n",
    "    ax.set_xticklabels([])\n",
    "    ax.set_yticklabels([])\n",
    "    ax.set_title(train_or_test + ' '+input_or_output)\n",
    "    \n",
    "\n",
    "def plot_task(task):\n",
    "    \"\"\"\n",
    "    Plots the first train and test pairs of a specified task,\n",
    "    using same color scheme as the ARC app\n",
    "    \"\"\"    \n",
    "    num_train = len(task['train'])\n",
    "    fig, axs = plt.subplots(2, num_train, figsize=(3*num_train,3*2))\n",
    "    for i in range(num_train):     \n",
    "        plot_one(axs[0,i],i,'train','input')\n",
    "        plot_one(axs[1,i],i,'train','output')        \n",
    "    plt.tight_layout()\n",
    "    plt.show()        \n",
    "        \n",
    "    num_test = len(task['test'])\n",
    "    fig, axs = plt.subplots(2, num_test, figsize=(3*num_test,3*2))\n",
    "    if num_test==1: \n",
    "        plot_one(axs[0],0,'test','input')\n",
    "        plot_one(axs[1],0,'test','output')     \n",
    "    else:\n",
    "        for i in range(num_test):      \n",
    "            plot_one(axs[0,i],i,'test','input')\n",
    "            plot_one(axs[1,i],i,'test','output')  \n",
    "    plt.tight_layout()\n",
    "    plt.show() \n",
    "\n",
    "    \n",
    "# Display each output of the function\n",
    "def show_image_list(images):\n",
    "    \"\"\" Show each image contained in a list. \"\"\"\n",
    "    p = plt.figure().subplots(1, len(images))\n",
    "    if len(images) > 1:\n",
    "        for i, image in enumerate(images):\n",
    "            p[i].imshow(image, cmap=cmap, norm=norm)\n",
    "    elif len(images) == 1:\n",
    "        p.imshow(images[0], cmap=cmap, norm=norm)"
   ]
  },
  {
   "cell_type": "code",
   "execution_count": 66,
   "metadata": {},
   "outputs": [
    {
     "data": {
      "image/png": "[encoded data removed]",
      "text/plain": [
       "<Figure size 648x432 with 6 Axes>"
      ]
     },
     "metadata": {
      "needs_background": "light"
     },
     "output_type": "display_data"
    },
    {
     "data": {
      "image/png": "[encoded data removed]",
      "text/plain": [
       "<Figure size 216x432 with 2 Axes>"
      ]
     },
     "metadata": {
      "needs_background": "light"
     },
     "output_type": "display_data"
    }
   ],
   "source": [
    "# Load my favorite task\n",
    "task_file = str(training_path / training_tasks[13])\n",
    "with open(task_file, 'r') as f:\n",
    "    task = json.load(f)\n",
    "    plot_task(task)"
   ]
  },
  {
   "cell_type": "code",
   "execution_count": 67,
   "metadata": {},
   "outputs": [
    {
     "data": {
      "image/png": "[encoded data removed]",
      "text/plain": [
       "<Figure size 432x288 with 2 Axes>"
      ]
     },
     "metadata": {
      "needs_background": "light"
     },
     "output_type": "display_data"
    }
   ],
   "source": [
    "# Execute the group by color on the first input\n",
    "input_image = np.array(task['train'][0]['input'])\n",
    "images = groupByColor([input_image])\n",
    "\n",
    "# Show the result of our function\n",
    "show_image_list(images)"
   ]
  },
  {
   "cell_type": "code",
   "execution_count": 68,
   "metadata": {},
   "outputs": [
    {
     "name": "stdout",
     "output_type": "stream",
     "text": [
      "splitH_lifted >> groupByColor_lifted >> negative_lifted >> intersect\n"
     ]
    }
   ],
   "source": [
    "def program_desc(program):\n",
    "    \"\"\" Create a human readable description of a program. \"\"\"\n",
    "    desc = [x.__name__ for x in program]\n",
    "    return(' >> '.join(desc))\n",
    "\n",
    "# Display the program description alongside its output\n",
    "program = [splitH, groupByColor, negative, intersect]\n",
    "print(program_desc(program))"
   ]
  },
  {
   "cell_type": "code",
   "execution_count": 69,
   "metadata": {},
   "outputs": [],
   "source": [
    "def evaluate(program: [], input_image: np.array):\n",
    "    # Make sure the input is a np.array\n",
    "    input_image = np.array(input_image)\n",
    "    assert type(input_image) == np.ndarray\n",
    "    \n",
    "    # Apply each function on the image\n",
    "    image_list = [input_image]\n",
    "    for fct in program:\n",
    "        # Apply the function\n",
    "        image_list = fct(image_list)\n",
    "        # Filter out empty images\n",
    "        image_list = [img for img in image_list if img.shape[0] > 0 and img.shape[1] > 0]\n",
    "        # Break if there is no data\n",
    "        if image_list == []:\n",
    "            return []\n",
    "    return image_list   "
   ]
  },
  {
   "cell_type": "code",
   "execution_count": 70,
   "metadata": {},
   "outputs": [
    {
     "data": {
      "image/png": "[encoded data removed]",
      "text/plain": [
       "<Figure size 432x288 with 2 Axes>"
      ]
     },
     "metadata": {
      "needs_background": "light"
     },
     "output_type": "display_data"
    }
   ],
   "source": [
    "results = evaluate(program=[groupByColor, negative], input_image=task['train'][0]['input'])\n",
    "show_image_list(results)"
   ]
  },
  {
   "cell_type": "code",
   "execution_count": 71,
   "metadata": {},
   "outputs": [
    {
     "name": "stdout",
     "output_type": "stream",
     "text": [
      "groupByColor_lifted >> cropToContent_lifted is a solution of the task: True\n"
     ]
    }
   ],
   "source": [
    "def are_two_images_equals(a, b):\n",
    "    if tuple(a.shape) == tuple(b.shape):\n",
    "        if (np.abs(b-a) < 1).all():\n",
    "            return True\n",
    "    return False\n",
    "\n",
    "def is_solution(program, task, verbose=True):\n",
    "    for sample in task: # For each pair input/output\n",
    "        i = np.array(sample['input'])\n",
    "        o = np.array(sample['output'])\n",
    "\n",
    "        # Evaluate the program on the input\n",
    "        images = evaluate(program, i)\n",
    "        if len(images) < 1:\n",
    "            return False\n",
    "        \n",
    "        # The solution should be in the 3 first outputs\n",
    "        images = images[:3]\n",
    "        \n",
    "        # Check if the output is in the 3 images produced\n",
    "        is_program_of_for_sample = any([are_two_images_equals(x, o) for x in images])\n",
    "        if not is_program_of_for_sample:\n",
    "            return False\n",
    "    \n",
    "    return True\n",
    "\n",
    "program = [groupByColor, cropToContent]\n",
    "print(program_desc(program),\"is a solution of the task:\", is_solution(program, task['train']))"
   ]
  },
  {
   "cell_type": "code",
   "execution_count": 72,
   "metadata": {},
   "outputs": [],
   "source": [
    "def width_fitness(predicted, expected_output):\n",
    "    \"\"\" How close the predicted image is to have the right width. Less is better.\"\"\"\n",
    "    return np.abs(predicted.shape[0] - expected_output.shape[0])\n",
    "\n",
    "def height_fitness(predicted, expected_output):\n",
    "    \"\"\" How close the predicted image is to have the right height. Less is better.\"\"\"\n",
    "    return np.abs(predicted.shape[1] - expected_output.shape[1])\n",
    "\n",
    "def activated_pixels_fitness(p, e):\n",
    "    \"\"\" How close the predicted image to have the right pixels. Less is better.\"\"\"\n",
    "    shape = (max(p.shape[0], e.shape[0]), max(p.shape[1], e.shape[1]))\n",
    "    diff = np.zeros(shape, dtype=int)\n",
    "    diff[0:p.shape[0], 0:p.shape[1]] = (p > 0).astype(int)\n",
    "    diff[0:e.shape[0], 0:e.shape[1]] -= (e > 0).astype(int)\n",
    "    \n",
    "    return (diff != 0).sum()\n",
    "\n",
    "def colors_fitness(p, e):\n",
    "    p_colors = np.unique(p)\n",
    "    e_colors = np.unique(e)\n",
    "    \n",
    "    nb_inter = len(np.intersect1d(p_colors, e_colors))\n",
    "\n",
    "    return (len(p_colors) - nb_inter) + (len(e_colors) - nb_inter)\n",
    "\n",
    "fitness_functions = [colors_fitness, activated_pixels_fitness, height_fitness, width_fitness]"
   ]
  },
  {
   "cell_type": "code",
   "execution_count": 73,
   "metadata": {},
   "outputs": [],
   "source": [
    "def product_less(a, b):\n",
    "    \"\"\" Return True iff the two tuples a and b respect a<b for the partial order. \"\"\"\n",
    "    a = np.array(a)\n",
    "    b = np.array(b)\n",
    "    return (np.array(a) < np.array(b)).all()\n",
    "    "
   ]
  },
  {
   "cell_type": "code",
   "execution_count": 74,
   "metadata": {},
   "outputs": [
    {
     "name": "stdout",
     "output_type": "stream",
     "text": [
      "Fitness evaluation: (2.0, 130.0, 11.0, 10.0)\n"
     ]
    }
   ],
   "source": [
    "# ([[np.array] -> [np.array]], Taks) -> (int, int, ..., int)\n",
    "def evaluate_fitness(program, task):\n",
    "    \"\"\" Take a program and a task, and return its fitness score as a tuple. \"\"\"\n",
    "    score = np.zeros((len(fitness_functions)))\n",
    "    \n",
    "    # For each sample\n",
    "    for sample in task:\n",
    "        i = np.array(sample['input'])\n",
    "        o = np.array(sample['output'])\n",
    "        \n",
    "        # For each fitness function\n",
    "        for index, fitness_function in enumerate(fitness_functions):\n",
    "            images = evaluate(program, i)\n",
    "            if images == []: # Penalize no prediction!\n",
    "                score[index] += 500\n",
    "            else: # Take only the score of the first output\n",
    "                score[index] = fitness_function(images[0], o)\n",
    "    return tuple(score)\n",
    "\n",
    "print(\"Fitness evaluation:\", evaluate_fitness([groupByColor, cropToContent], task['train']))"
   ]
  },
  {
   "cell_type": "code",
   "execution_count": 75,
   "metadata": {},
   "outputs": [
    {
     "data": {
      "text/plain": [
       "42"
      ]
     },
     "execution_count": 75,
     "metadata": {},
     "output_type": "execute_result"
    }
   ],
   "source": [
    "def build_candidates(allowed_nodes=[identity], best_candidates=[], nb_candidates=200):\n",
    "    \"\"\"\n",
    "    Create a poll of fresh candidates using the `allowed_nodes`.\n",
    "    \n",
    "    The pool contain a mix of new single instructions programs\n",
    "    and mutations of the best candidates.\n",
    "    \"\"\"\n",
    "    new_candidates = []\n",
    "    length_limit = 4 # Maximal length of a program\n",
    "    \n",
    "    def random_node():\n",
    "        return random.choice(allowed_nodes)\n",
    "    \n",
    "    # Until we have enougth new candidates\n",
    "    while(len(new_candidates) < nb_candidates):\n",
    "        # Add 10 new programs\n",
    "        for i in range(5):\n",
    "            new_candidates += [[random_node()]]\n",
    "        \n",
    "        # Create new programs based on each best candidate\n",
    "        for best_program in best_candidates:\n",
    "            # Add one op on its right but limit the length of the program\n",
    "            if len(best_program) < length_limit - 1:\n",
    "                new_candidates += [[random_node()] + best_program]\n",
    "            # Add one op on its left but limit the length of the program\n",
    "            if len(best_program) < length_limit - 1:\n",
    "                new_candidates += [best_program + [random_node()]]\n",
    "            # Mutate one instruction of the existing program\n",
    "            new_candidates += [list(best_program)]\n",
    "            new_candidates[-1][random.randrange(0, len(best_program))] = random_node()\n",
    "   \n",
    "    # Truncate if we have too many candidates\n",
    "    np.random.shuffle(new_candidates)\n",
    "    return new_candidates[:nb_candidates]\n",
    "\n",
    "# Test the function by building some candidates\n",
    "len(build_candidates(allowed_nodes=[identity], best_candidates=[[identity]], nb_candidates=42))"
   ]
  },
  {
   "cell_type": "code",
   "execution_count": 76,
   "metadata": {},
   "outputs": [],
   "source": [
    "def build_model(task, max_iterations=20, verbose=True):\n",
    "    candidates_nodes = [\n",
    "        tail, init, union, intersect,\n",
    "        sortByColor, sortByWeight, reverse,\n",
    "        cropToContent, groupByColor, splitH,\n",
    "        negative\n",
    "    ]\n",
    "    \n",
    "    if verbose:\n",
    "        print(\"Candidates nodes are:\", [program_desc([n]) for n in candidates_nodes])\n",
    "        print()\n",
    "\n",
    "    best_candidates = {} # A dictionary of {score:candidate}\n",
    "    for i in range(max_iterations):\n",
    "        if verbose:\n",
    "            print(\"Iteration \", i+1)\n",
    "            print(\"-\" * 10)\n",
    "        \n",
    "        # Create a list of candidates\n",
    "        candidates = build_candidates(candidates_nodes, best_candidates.values())\n",
    "        \n",
    "        # Keep candidates with best fitness.\n",
    "        # They will be stored in the `best_candidates` dictionary\n",
    "        # where the key of each program is its fitness score.\n",
    "        for candidate in candidates:\n",
    "            score = evaluate_fitness(candidate, task)\n",
    "            is_uncomparable = True # True if we cannot compare the two candidate's scores\n",
    "            \n",
    "            # Compare the new candidate to the existing best candidates\n",
    "            best_candidates_items = list(best_candidates.items())\n",
    "            for best_score, best_candidate in best_candidates_items:\n",
    "                if product_less(score, best_score):\n",
    "                    # Remove previous best candidate and add the new one\n",
    "                    del best_candidates[best_score]\n",
    "                    best_candidates[score] = candidate\n",
    "                    is_uncomparable = False # The candidates are comparable\n",
    "                if product_less(best_score, score) or best_score == score:\n",
    "                    is_uncomparable = False # The candidates are comparable\n",
    "            if is_uncomparable: # The two candidates are uncomparable\n",
    "                best_candidates[score] = candidate\n",
    "\n",
    "        # For each best candidate, we look if we have an answer\n",
    "        for program in best_candidates.values():\n",
    "            if is_solution(program, task):\n",
    "                return program\n",
    "            \n",
    "        # Give some informations by selecting a random candidate\n",
    "        if verbose:\n",
    "            print(\"Best candidates lenght:\", len(best_candidates))\n",
    "            random_candidate_score = random.choice(list(best_candidates.keys()))\n",
    "            print(\"Random candidate score:\", random_candidate_score)\n",
    "            print(\"Random candidate implementation:\", program_desc(best_candidates[random_candidate_score]))\n",
    "    return None"
   ]
  },
  {
   "cell_type": "code",
   "execution_count": 78,
   "metadata": {},
   "outputs": [
    {
     "name": "stdout",
     "output_type": "stream",
     "text": [
      "Candidates nodes are: ['tail', 'init', 'union', 'intersect', 'sortByColor', 'sortByWeight', 'reverse', 'cropToContent_lifted', 'groupByColor_lifted', 'splitH_lifted', 'negative_lifted']\n",
      "\n",
      "Iteration  1\n",
      "----------\n",
      "Best candidates lenght: 4\n",
      "Random candidate score: (2.0, 76.0, 11.0, 0.0)\n",
      "Random candidate implementation: splitH_lifted\n",
      "Iteration  2\n",
      "----------\n",
      "Best candidates lenght: 12\n",
      "Random candidate score: (2.0, 76.0, 11.0, 2.0)\n",
      "Random candidate implementation: splitH_lifted >> cropToContent_lifted\n",
      "Iteration  3\n",
      "----------\n",
      "Best candidates lenght: 25\n",
      "Random candidate score: (1.0, 43.0, 11.0, 5.0)\n",
      "Random candidate implementation: splitH_lifted >> reverse >> splitH_lifted\n",
      "Iteration  4\n",
      "----------\n",
      "Best candidates lenght: 36\n",
      "Random candidate score: (0.0, 99.0, 11.0, 0.0)\n",
      "Random candidate implementation: negative_lifted >> splitH_lifted >> reverse\n",
      "Iteration  5\n",
      "----------\n",
      "Best candidates lenght: 38\n",
      "Random candidate score: (2.0, 102.0, 11.0, 0.0)\n",
      "Random candidate implementation: splitH_lifted >> negative_lifted >> union\n",
      "Iteration  6\n",
      "----------\n",
      "Best candidates lenght: 38\n",
      "Random candidate score: (2.0, 79.0, 11.0, 0.0)\n",
      "Random candidate implementation: splitH_lifted >> reverse >> union\n",
      "Iteration  7\n",
      "----------\n",
      "\n",
      "Found program: groupByColor_lifted >> sortByWeight >> cropToContent_lifted\n"
     ]
    }
   ],
   "source": [
    "program = build_model(task['train'], verbose=True)\n",
    "\n",
    "print()\n",
    "if program is None:\n",
    "    print(\"No program was found\")\n",
    "else:\n",
    "    print(\"Found program:\", program_desc(program))"
   ]
  },
  {
   "cell_type": "code",
   "execution_count": null,
   "metadata": {},
   "outputs": [],
   "source": []
  }
 ],
 "metadata": {
  "kernelspec": {
   "display_name": "Python 3",
   "language": "python",
   "name": "python3"
  },
  "language_info": {
   "codemirror_mode": {
    "name": "ipython",
    "version": 3
   },
   "file_extension": ".py",
   "mimetype": "text/x-python",
   "name": "python",
   "nbconvert_exporter": "python",
   "pygments_lexer": "ipython3",
   "version": "3.7.3"
  }
 },
 "nbformat": 4,
 "nbformat_minor": 2
}
